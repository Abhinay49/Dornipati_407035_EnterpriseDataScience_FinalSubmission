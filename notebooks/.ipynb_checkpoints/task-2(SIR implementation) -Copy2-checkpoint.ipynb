{
 "cells": [
  {
   "cell_type": "markdown",
   "metadata": {},
   "source": [
    "# SIR Implementation"
   ]
  },
  {
   "cell_type": "code",
   "execution_count": 1,
   "metadata": {},
   "outputs": [],
   "source": [
    "# Importing the required python packages \n",
    "import pandas as pd\n",
    "import numpy as np\n",
    "import seaborn as sns\n",
    "                                                                                                                                                                                                                                                                                                                                                                                                                                                                       \n",
    "from datetime import datetime\n",
    "\n",
    "\n",
    "from scipy import optimize\n",
    "from scipy import integrate\n",
    "\n",
    "# Magic command to plot the graphs within the notebook\n",
    "%matplotlib inline\n",
    "import matplotlib as mpl\n",
    "import matplotlib.pyplot as plt\n",
    "\n",
    "# Importing packages for DASH implementation\n",
    "\n",
    "import dash\n",
    "dash.__version__\n",
    "import dash_core_components as dcc\n",
    "import dash_html_components as html\n",
    "from dash.dependencies import Input, Output,State\n",
    "\n",
    "\n",
    "import plotly.graph_objects as go\n",
    "\n",
    "import os\n",
    "\n",
    "\n",
    "sns.set(style=\"darkgrid\")\n",
    "\n",
    "mpl.rcParams['figure.figsize'] = (16, 9)\n",
    "pd.set_option('display.max_rows', 500)\n"
   ]
  },
  {
   "cell_type": "markdown",
   "metadata": {},
   "source": [
    "# Simulative approach to calculate SIR curves"
   ]
  },
  {
   "cell_type": "code",
   "execution_count": 2,
   "metadata": {},
   "outputs": [],
   "source": [
    "def SIR_model(y_data):\n",
    "    ''' Simple SIR model\n",
    "        S: Stock of Susceptible population\n",
    "        I: Stock of Infected people\n",
    "        R: Stock of Recovered people\n",
    "    '''\n",
    "    global SIR0, t, N0\n",
    "\n",
    "    ydata = np.array(y_data)\n",
    "    t = np.arange(len(ydata))\n",
    "\n",
    "    N0 = 1000000 #Initial population size\n",
    "    I0=ydata[0] #Initial stock of Infected population\n",
    "    S0=N0-I0    #Initial stock of Susceptible population\n",
    "    R0=0       #Initial stock of Recovered population\n",
    "    SIR0 = (S0,I0,R0)\n",
    "\n",
    "\n",
    "    popt = [0.2, 0.1]\n",
    "    fit_odeint(t, *popt)\n",
    "\n",
    "    popt, pcov = optimize.curve_fit(fit_odeint, t, ydata)\n",
    "    perr = np.sqrt(np.diag(pcov))\n",
    "\n",
    "    print('standard deviation errors : ',str(perr), ' start infect:',ydata[0])\n",
    "    print(\"Optimal parameters: beta =\", popt[0], \" and gamma = \", popt[1])\n",
    "\n",
    "    fitted=fit_odeint(t, *popt)\n",
    "\n",
    "    return t, fitted"
   ]
  },
  {
   "cell_type": "code",
   "execution_count": 3,
   "metadata": {},
   "outputs": [],
   "source": [
    "def SIR_model_t(SIR,t,beta,gamma):\n",
    "    ''' Simple SIR model\n",
    "        S: Stock of Susceptible population\n",
    "        t: time step, mandatory for integral.odeint\n",
    "        I: Stock of infected population\n",
    "        R: Stock of Recovered population\n",
    "        beta: \n",
    "        \n",
    "        overall condition is that the sum of changes (differnces) sum up to 0\n",
    "        dS+dI+dR=0\n",
    "        S+I+R= N (constant size of population)\n",
    "    \n",
    "    '''\n",
    "    \n",
    "    S,I,R=SIR\n",
    "    dS_dt=-beta*S*I/N0          #S*I is the \n",
    "    dI_dt=beta*S*I/N0-gamma*I\n",
    "    dR_dt=gamma*I\n",
    "    return dS_dt,dI_dt,dR_dt"
   ]
  },
  {
   "cell_type": "markdown",
   "metadata": {},
   "source": [
    "# Fitting the parameters of the SIR model "
   ]
  },
  {
   "cell_type": "code",
   "execution_count": 4,
   "metadata": {},
   "outputs": [],
   "source": [
    "def fit_odeint(x, beta, gamma):\n",
    "    return integrate.odeint(SIR_model_t, SIR0, t, args=(beta, gamma))[:,1] # we only would like to get dI"
   ]
  },
  {
   "cell_type": "code",
   "execution_count": 5,
   "metadata": {},
   "outputs": [],
   "source": [
    "df_analyse=pd.read_csv('../data/processed/COVID_final_set.csv',sep=';') "
   ]
  },
  {
   "cell_type": "markdown",
   "metadata": {},
   "source": [
    "# Visual Board"
   ]
  },
  {
   "cell_type": "code",
   "execution_count": null,
   "metadata": {},
   "outputs": [
    {
     "name": "stdout",
     "output_type": "stream",
     "text": [
      "Dash is running on http://127.0.0.1:8050/\n",
      "\n",
      " Warning: This is a development server. Do not use app.run_server\n",
      " in production, use a production WSGI server like gunicorn instead.\n",
      "\n",
      " * Serving Flask app \"__main__\" (lazy loading)\n",
      " * Environment: production\n",
      "   WARNING: This is a development server. Do not use it in a production deployment.\n",
      "   Use a production WSGI server instead.\n",
      " * Debug mode: on\n"
     ]
    },
    {
     "name": "stderr",
     "output_type": "stream",
     "text": [
      "<ipython-input-3-b9a333d6765a>:16: RuntimeWarning:\n",
      "\n",
      "overflow encountered in double_scalars\n",
      "\n",
      "<ipython-input-3-b9a333d6765a>:17: RuntimeWarning:\n",
      "\n",
      "overflow encountered in double_scalars\n",
      "\n",
      "C:\\Users\\dorni\\anaconda3\\lib\\site-packages\\scipy\\integrate\\odepack.py:247: ODEintWarning:\n",
      "\n",
      "Illegal input detected (internal error). Run with full_output = 1 to get quantitative information.\n",
      "\n",
      "C:\\Users\\dorni\\anaconda3\\lib\\site-packages\\scipy\\integrate\\odepack.py:247: ODEintWarning:\n",
      "\n",
      "Excess work done on this call (perhaps wrong Dfun type). Run with full_output = 1 to get quantitative information.\n",
      "\n"
     ]
    },
    {
     "name": "stdout",
     "output_type": "stream",
     "text": [
      "standard deviation errors :  [0.00211294 0.00189432]  start infect: 27.0\n",
      "Optimal parameters: beta = 0.11383548297936799  and gamma =  0.03852607432472092\n",
      "standard deviation errors :  [0.000977   0.00073783]  start infect: 1261.0\n",
      "Optimal parameters: beta = 0.12912522100153834  and gamma =  0.10601184414735852\n"
     ]
    }
   ],
   "source": [
    "fig = go.Figure()\n",
    "app = dash.Dash()\n",
    "app.layout = html.Div([\n",
    "\n",
    "    dcc.Markdown('''\n",
    "\n",
    "    # DASH Implementation of SIR model fitting.\n",
    "    \n",
    "    \n",
    "      This dashboard consits of two line curves:\n",
    "      First (continous line) curve representing the actual stock of infected population, where as the second (dotted line) curve presents the SIR model fit.\n",
    "      The user can interactively select different countries and track how good the SIR model fits to the actual data.\n",
    "\n",
    "    '''),\n",
    "\n",
    "\n",
    "    dcc.Dropdown(\n",
    "        id = 'country_drop_down',\n",
    "        options=[ {'label': each,'value':each} for each in df_analyse['country'].unique()],\n",
    "        value= 'Germany', # which is pre-selected\n",
    "        multi=False),\n",
    "\n",
    "    dcc.Graph(figure = fig, id = 'SIR_graph')\n",
    "    ])\n",
    "\n",
    "def SIR(countries):\n",
    "\n",
    "    SIR_model()\n",
    "\n",
    "\n",
    "@app.callback(\n",
    "    Output('SIR_graph', 'figure'),\n",
    "    [Input('country_drop_down', 'value')])\n",
    "\n",
    "def update_figure(country_drop_down):\n",
    "\n",
    "    traces = []\n",
    "\n",
    "    df_plot = df_analyse[df_analyse['country'] == country_drop_down]\n",
    "    df_plot = df_plot[['state', 'country', 'confirmed', 'date']].groupby(['country', 'date']).agg(np.sum).reset_index()\n",
    "    df_plot.sort_values('date', ascending = True).head()\n",
    "    df_plot = df_plot.confirmed[35:]\n",
    "\n",
    "    t, fitted = SIR_model(df_plot)\n",
    "\n",
    "    traces.append(dict (x = t,\n",
    "                        y = fitted,\n",
    "                        mode = 'markers',\n",
    "                        opacity = 0.9,\n",
    "                        name = 'SIR-fit')\n",
    "                  )\n",
    "\n",
    "    traces.append(dict (x = t,\n",
    "                        y = df_plot,\n",
    "                        mode = 'lines',\n",
    "                        opacity = 0.9,\n",
    "                        name = 'Original Data')\n",
    "                  )\n",
    "\n",
    "    return {\n",
    "            'data': traces,\n",
    "            'layout': dict (\n",
    "                width=1280,\n",
    "                height=720,\n",
    "                title = 'SIR Model Fitting',\n",
    "\n",
    "                xaxis= {'title':'Timeline',\n",
    "                       'tickangle':-45,\n",
    "                        'nticks':20,\n",
    "                        'tickfont':dict(size=14,color=\"#7f7f7f\"),\n",
    "                      },\n",
    "\n",
    "                yaxis={'title': \"Stock of Infected population - John Hopkins GitHub (log scale) \"}\n",
    "        )\n",
    "    }\n",
    "\n",
    "\n",
    "if __name__ == '__main__':\n",
    "    app.run_server(debug = True, use_reloader = False)\n",
    "\n"
   ]
  },
  {
   "cell_type": "code",
   "execution_count": null,
   "metadata": {},
   "outputs": [],
   "source": []
  },
  {
   "cell_type": "code",
   "execution_count": null,
   "metadata": {},
   "outputs": [],
   "source": []
  },
  {
   "cell_type": "code",
   "execution_count": null,
   "metadata": {},
   "outputs": [],
   "source": []
  }
 ],
 "metadata": {
  "kernelspec": {
   "display_name": "Python 3",
   "language": "python",
   "name": "python3"
  },
  "language_info": {
   "codemirror_mode": {
    "name": "ipython",
    "version": 3
   },
   "file_extension": ".py",
   "mimetype": "text/x-python",
   "name": "python",
   "nbconvert_exporter": "python",
   "pygments_lexer": "ipython3",
   "version": "3.8.3"
  }
 },
 "nbformat": 4,
 "nbformat_minor": 2
}
